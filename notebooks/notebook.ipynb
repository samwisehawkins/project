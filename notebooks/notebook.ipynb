{
 "cells": [
  {
   "cell_type": "markdown",
   "metadata": {},
   "source": [
    "# Project Notebook\n",
    "\n",
    "This is an example notebook accompanyig the project template.  Notebooks are an excellent way of demonstrating functionality, but it can sometimes get confusing between the functionality containing in the notebook, and the functionality contained in the python package.\n",
    "\n",
    "I reccommend keeping notebooks in a `notebooks` subdirectory at the project level, and importing the (installed) package within the notebooks.  Think of the package as providing tested, reusable functions, while the notebook is more exploratory.  If you find yourself copying and pasting functions between notebooks, probably time to put them into the python package itself."
   ]
  },
  {
   "cell_type": "code",
   "execution_count": 1,
   "metadata": {
    "collapsed": true
   },
   "outputs": [],
   "source": [
    "from package import module"
   ]
  },
  {
   "cell_type": "code",
   "execution_count": 2,
   "metadata": {
    "collapsed": false
   },
   "outputs": [
    {
     "name": "stdout",
     "output_type": "stream",
     "text": [
      "hello world\n"
     ]
    }
   ],
   "source": [
    "module.main()"
   ]
  }
 ],
 "metadata": {
  "anaconda-cloud": {},
  "kernelspec": {
   "display_name": "Python [conda env:dev3]",
   "language": "python",
   "name": "conda-env-dev3-py"
  },
  "language_info": {
   "codemirror_mode": {
    "name": "ipython",
    "version": 3
   },
   "file_extension": ".py",
   "mimetype": "text/x-python",
   "name": "python",
   "nbconvert_exporter": "python",
   "pygments_lexer": "ipython3",
   "version": "3.4.5"
  }
 },
 "nbformat": 4,
 "nbformat_minor": 1
}
